{
 "cells": [
  {
   "cell_type": "markdown",
   "metadata": {},
   "source": [
    "# Имплементация модели и её обучение"
   ]
  },
  {
   "cell_type": "code",
   "execution_count": 1,
   "metadata": {},
   "outputs": [],
   "source": [
    "import glob\n",
    "import os\n",
    "import sys\n",
    "import math\n",
    "import time\n",
    "import random\n",
    "import pickle\n",
    "import joblib\n",
    "from tqdm import tqdm\n",
    "import torch\n",
    "\n",
    "from torch.utils.data import Dataset, DataLoader\n",
    "from torch.optim import Adam\n",
    "import torch.nn as nn\n",
    "from torch.nn import functional as F\n",
    "from torch.optim.lr_scheduler import LambdaLR\n",
    "from torch.nn.modules.normalization import LayerNorm"
   ]
  },
  {
   "cell_type": "code",
   "execution_count": 2,
   "metadata": {},
   "outputs": [
    {
     "name": "stderr",
     "output_type": "stream",
     "text": [
      "100%|██████████| 1020/1020 [13:11<00:00,  1.29it/s]\n",
      "100%|██████████| 131/131 [01:37<00:00,  1.34it/s]\n",
      "100%|██████████| 125/125 [01:39<00:00,  1.26it/s]\n"
     ]
    }
   ],
   "source": [
    "dataset_pickle = '/home/storage/3020/db/K_cluster2_backup/TD/data/data_split.pkl'\n",
    "with open(dataset_pickle, 'rb') as f:\n",
    "    files = pickle.load(f)\n",
    "\n",
    "train_list, val_list, test_list = [], [], []\n",
    "\n",
    "for file in tqdm(files['train']):\n",
    "    seqs = joblib.load(file)\n",
    "    name = file.split('/')[-1]\n",
    "\n",
    "    for idx, seq in enumerate(seqs):\n",
    "        if len(seq) == 0:\n",
    "            continue\n",
    "        train_list.append(seq)\n",
    "        \n",
    "for file in tqdm(files['val']):\n",
    "    seqs = joblib.load(file)\n",
    "    name = file.split('/')[-1]\n",
    "    for idx, seq in enumerate(seqs):\n",
    "        if len(seq) == 0:\n",
    "            continue\n",
    "        val_list.append(seq)\n",
    "    \n",
    "for file in tqdm(files['test']):\n",
    "    seqs = joblib.load(file)\n",
    "    for idx, seq in enumerate(seqs):\n",
    "        if len(seq) == 0:\n",
    "            continue\n",
    "        test_list.append(seq)"
   ]
  },
  {
   "cell_type": "code",
   "execution_count": 3,
   "metadata": {},
   "outputs": [
    {
     "name": "stdout",
     "output_type": "stream",
     "text": [
      "Train length: 293775\n",
      "Val length: 37065\n",
      "Test length: 34815\n"
     ]
    }
   ],
   "source": [
    "print(f'Train length: {len(train_list)}')\n",
    "print(f'Val length: {len(val_list)}')\n",
    "print(f'Test length: {len(test_list)}')"
   ]
  },
  {
   "cell_type": "markdown",
   "metadata": {},
   "source": [
    "# Constants"
   ]
  },
  {
   "cell_type": "code",
   "execution_count": 4,
   "metadata": {},
   "outputs": [],
   "source": [
    "SEQUENCE_START = 0\n",
    "RANGE_NOTE_ON = 128\n",
    "RANGE_NOTE_OFF = 128\n",
    "RANGE_VEL = 32\n",
    "RANGE_TIME_SHIFT = 100\n",
    "\n",
    "START_IDX = {\n",
    "    'note_on': 0,\n",
    "    'note_off': RANGE_NOTE_ON,\n",
    "    'time_shift': RANGE_NOTE_ON + RANGE_NOTE_OFF,\n",
    "    'velocity': RANGE_NOTE_ON + RANGE_NOTE_OFF + RANGE_TIME_SHIFT\n",
    "}\n",
    "\n",
    "\n",
    "SEPERATOR               = \"=========================\"\n",
    "\n",
    "# Taken from the paper\n",
    "ADAM_BETA_1             = 0.9\n",
    "ADAM_BETA_2             = 0.98\n",
    "ADAM_EPSILON            = 10e-9\n",
    "\n",
    "LR_DEFAULT_START        = 1.0\n",
    "SCHEDULER_WARMUP_STEPS  = 4000\n",
    "# LABEL_SMOOTHING_E       = 0.1\n",
    "\n",
    "# DROPOUT_P               = 0.1\n",
    "\n",
    "TOKEN_END               = RANGE_NOTE_ON + RANGE_NOTE_OFF + RANGE_VEL + RANGE_TIME_SHIFT\n",
    "TOKEN_PAD               = TOKEN_END + 1\n",
    "\n",
    "VOCAB_SIZE              = TOKEN_PAD + 1\n",
    "\n",
    "TORCH_FLOAT             = torch.float32\n",
    "TORCH_INT               = torch.int32\n",
    "\n",
    "TORCH_LABEL_TYPE        = torch.long\n",
    "\n",
    "PREPEND_ZEROS_WIDTH     = 4\n",
    "\n",
    "TORCH_CPU_DEVICE = torch.device(\"cpu\")\n",
    "USE_CUDA = 1\n",
    "TORCH_CUDA_DEVICE = torch.device(\"cuda:8\")"
   ]
  },
  {
   "cell_type": "code",
   "execution_count": 5,
   "metadata": {},
   "outputs": [],
   "source": [
    "def cpu_device():\n",
    "    \"\"\"\n",
    "    ----------\n",
    "    Author: Damon Gwinn\n",
    "    ----------\n",
    "    Grabs the cpu device\n",
    "    ----------\n",
    "    \"\"\"\n",
    "\n",
    "    return TORCH_CPU_DEVICE\n",
    "\n",
    "def get_device():\n",
    "    \"\"\"\n",
    "    ----------\n",
    "    Author: Damon Gwinn\n",
    "    ----------\n",
    "    Grabs the default device. Default device is CUDA if available and use_cuda is not False, CPU otherwise.\n",
    "    ----------\n",
    "    \"\"\"\n",
    "\n",
    "    if((not USE_CUDA) or (TORCH_CUDA_DEVICE is None)):\n",
    "        return TORCH_CPU_DEVICE\n",
    "    else:\n",
    "        return TORCH_CUDA_DEVICE"
   ]
  },
  {
   "cell_type": "markdown",
   "metadata": {},
   "source": [
    "# Dataset"
   ]
  },
  {
   "cell_type": "code",
   "execution_count": 6,
   "metadata": {},
   "outputs": [],
   "source": [
    "class EPianoDataset(Dataset):\n",
    "    \"\"\"\n",
    "    ----------\n",
    "    Author: Damon Gwinn\n",
    "    ----------\n",
    "    Pytorch Dataset for the Maestro e-piano dataset (https://magenta.tensorflow.org/datasets/maestro).\n",
    "    Recommended to use with Dataloader (https://pytorch.org/docs/stable/data.html#torch.utils.data.DataLoader)\n",
    "    Uses all files found in the given root directory of pre-processed (preprocess_midi.py)\n",
    "    Maestro midi files.\n",
    "    ----------\n",
    "    \"\"\"\n",
    "\n",
    "    def __init__(self, midi_list, max_seq=2048, random_seq=True):\n",
    "        self.max_seq    = max_seq\n",
    "        self.random_seq = random_seq\n",
    "        self.data_files = midi_list\n",
    "\n",
    "    def __len__(self):\n",
    "        \"\"\"\n",
    "        ----------\n",
    "        Author: Damon Gwinn\n",
    "        ----------\n",
    "        How many data files exist in the given directory\n",
    "        ----------\n",
    "        \"\"\"\n",
    "\n",
    "        return len(self.data_files)\n",
    "\n",
    "    def __getitem__(self, idx):\n",
    "        \"\"\"\n",
    "        ----------\n",
    "        Author: Damon Gwinn\n",
    "        ----------\n",
    "        Gets the indexed midi batch. Gets random sequence or from start depending on random_seq.\n",
    "        Returns the input and the target.\n",
    "        ----------\n",
    "        \"\"\"\n",
    "\n",
    "        raw_mid = torch.tensor(self.data_files[idx], dtype=TORCH_LABEL_TYPE, device=cpu_device())\n",
    "        x, tgt = process_midi(raw_mid, self.max_seq, self.random_seq)\n",
    "\n",
    "        return x, tgt\n",
    "    \n",
    "def process_midi(raw_mid, max_seq, random_seq):\n",
    "    \"\"\"\n",
    "    ----------\n",
    "    Author: Damon Gwinn\n",
    "    ----------\n",
    "    Takes in pre-processed raw midi and returns the input and target. Can use a random sequence or\n",
    "    go from the start based on random_seq.\n",
    "    ----------\n",
    "    \"\"\"\n",
    "\n",
    "    x   = torch.full((max_seq, ), TOKEN_PAD, dtype=TORCH_LABEL_TYPE, device=cpu_device())\n",
    "    tgt = torch.full((max_seq, ), TOKEN_PAD, dtype=TORCH_LABEL_TYPE, device=cpu_device())\n",
    "\n",
    "    raw_len     = len(raw_mid)\n",
    "    full_seq    = max_seq + 1 # Performing seq2seq\n",
    "\n",
    "    if(raw_len == 0):\n",
    "        return x, tgt\n",
    "\n",
    "    if(raw_len < full_seq):\n",
    "        if tgt.shape[0] == raw_len:\n",
    "            #print(f'Tgt shape: {tgt.shape} Raw len: {raw_len} Skipping')\n",
    "            x[:raw_len]         = raw_mid\n",
    "            tgt[:raw_len-1]     = raw_mid[1:]\n",
    "            tgt[raw_len-1]        = TOKEN_END\n",
    "        else:\n",
    "            x[:raw_len]         = raw_mid\n",
    "            tgt[:raw_len-1]     = raw_mid[1:]\n",
    "            tgt[raw_len]        = TOKEN_END\n",
    "    else:\n",
    "        # Randomly selecting a range\n",
    "        if(random_seq):\n",
    "            end_range = raw_len - full_seq\n",
    "            start = random.randint(SEQUENCE_START, end_range)\n",
    "\n",
    "        # Always taking from the start to as far as we can\n",
    "        else:\n",
    "            start = SEQUENCE_START\n",
    "\n",
    "        end = start + full_seq\n",
    "\n",
    "        data = raw_mid[start:end]\n",
    "\n",
    "        x = data[:max_seq]\n",
    "        tgt = data[1:full_seq]\n",
    "\n",
    "    return x, tgt"
   ]
  },
  {
   "cell_type": "markdown",
   "metadata": {},
   "source": [
    "Гиперпараметры обучения и параметры модели"
   ]
  },
  {
   "cell_type": "code",
   "execution_count": 7,
   "metadata": {},
   "outputs": [],
   "source": [
    "weight_modulus = 1\n",
    "print_modulus = 1\n",
    "n_workers = 1\n",
    "\n",
    "lr = None\n",
    "ce_smoothing = None\n",
    "batch_size = 12\n",
    "random_seq = True\n",
    "epochs = 100\n",
    "\n",
    "max_seq = 2048\n",
    "n_layers = 6\n",
    "num_heads = 8\n",
    "d_model = 512\n",
    "dim_feedforward = 1024\n",
    "dropout = 0.1"
   ]
  },
  {
   "cell_type": "markdown",
   "metadata": {},
   "source": [
    "Инициализируем датасеты собранными списками последовательностей"
   ]
  },
  {
   "cell_type": "code",
   "execution_count": 8,
   "metadata": {},
   "outputs": [],
   "source": [
    "train_dataset = EPianoDataset(train_list, max_seq, random_seq)\n",
    "val_dataset = EPianoDataset(val_list, max_seq, random_seq)\n",
    "test_dataset = EPianoDataset(test_list, max_seq, random_seq)"
   ]
  },
  {
   "cell_type": "code",
   "execution_count": 9,
   "metadata": {},
   "outputs": [],
   "source": [
    "train_loader = DataLoader(train_dataset, batch_size=batch_size, num_workers=n_workers, shuffle=True)\n",
    "val_loader = DataLoader(val_dataset, batch_size=batch_size, num_workers=n_workers)\n",
    "test_loader = DataLoader(test_dataset, batch_size=batch_size, num_workers=n_workers)"
   ]
  },
  {
   "cell_type": "markdown",
   "metadata": {},
   "source": [
    "Проверим выходные шейпы"
   ]
  },
  {
   "cell_type": "code",
   "execution_count": 11,
   "metadata": {},
   "outputs": [
    {
     "name": "stdout",
     "output_type": "stream",
     "text": [
      "Train loader\n",
      "X shape: torch.Size([8, 2048])\n",
      "Target shape: torch.Size([8, 2048])\n",
      "Validation loader\n",
      "X shape: torch.Size([8, 2048])\n",
      "Target shape: torch.Size([8, 2048])\n",
      "Test loader\n",
      "X shape: torch.Size([8, 2048])\n",
      "Target shape: torch.Size([8, 2048])\n"
     ]
    }
   ],
   "source": [
    "print('Train loader')\n",
    "for x, tgt in train_loader:\n",
    "    print(f'X shape: {x.shape}')\n",
    "    print(f'Target shape: {tgt.shape}')\n",
    "    break\n",
    "\n",
    "print('Validation loader')\n",
    "for x, tgt in val_loader:\n",
    "    print(f'X shape: {x.shape}')\n",
    "    print(f'Target shape: {tgt.shape}')\n",
    "    break\n",
    "\n",
    "print('Test loader')\n",
    "for x, tgt in test_loader:\n",
    "    print(f'X shape: {x.shape}')\n",
    "    print(f'Target shape: {tgt.shape}')\n",
    "    break"
   ]
  },
  {
   "cell_type": "markdown",
   "metadata": {},
   "source": [
    "# Инициализация модели, оптимизатора и schedulera"
   ]
  },
  {
   "cell_type": "code",
   "execution_count": 10,
   "metadata": {},
   "outputs": [],
   "source": [
    "class LrStepTracker:\n",
    "\n",
    "    def __init__(self, model_dim=512, warmup_steps=4000, init_steps=0):\n",
    "        # Store Values\n",
    "        self.warmup_steps = warmup_steps\n",
    "        self.model_dim = model_dim\n",
    "        self.init_steps = init_steps\n",
    "\n",
    "        # Begin Calculations\n",
    "        self.invsqrt_dim = (1 / math.sqrt(model_dim))\n",
    "        self.invsqrt_warmup = (1 / (warmup_steps * math.sqrt(warmup_steps)))\n",
    "\n",
    "    # step\n",
    "    def step(self, step):\n",
    "\n",
    "        step += self.init_steps\n",
    "        if(step <= self.warmup_steps):\n",
    "            return self.invsqrt_dim * self.invsqrt_warmup * step\n",
    "        else:\n",
    "            invsqrt_step = (1 / math.sqrt(step))\n",
    "            return self.invsqrt_dim * invsqrt_step\n",
    "\n",
    "# get_lr\n",
    "def get_lr(optimizer):\n",
    "\n",
    "    for param_group in optimizer.param_groups:\n",
    "        return param_group['lr']"
   ]
  },
  {
   "cell_type": "code",
   "execution_count": 11,
   "metadata": {},
   "outputs": [],
   "source": [
    "def train(cur_epoch, model, dataloader, loss, opt, lr_scheduler=None, num_iters=-1):\n",
    "    best_eval_acc        = 0.0\n",
    "    best_eval_acc_epoch  = -1\n",
    "    best_eval_loss       = float(\"inf\")\n",
    "    best_eval_loss_epoch = -1\n",
    "    loss_hist = []\n",
    "    \n",
    "    out = -1\n",
    "    model.train()\n",
    "    with tqdm(total=len(dataloader)) as bar_train:\n",
    "        for batch_num, batch in enumerate(dataloader):\n",
    "            time_before = time.time()\n",
    "\n",
    "            opt.zero_grad()\n",
    "\n",
    "            x   = batch[0].to(get_device())\n",
    "            tgt = batch[1].to(get_device())\n",
    "\n",
    "            y, _ = model(x)\n",
    "\n",
    "            y   = y.reshape(y.shape[0] * y.shape[1], -1)\n",
    "            tgt = tgt.flatten()\n",
    "\n",
    "            out = loss.forward(y, tgt)\n",
    "\n",
    "            out.backward()\n",
    "            opt.step()\n",
    "\n",
    "            if(lr_scheduler is not None):\n",
    "                lr_scheduler.step()\n",
    "\n",
    "            time_after = time.time()\n",
    "            time_took = time_after - time_before\n",
    "            lr = opt.param_groups[0]['lr']\n",
    "            bar_train.set_description(f'Epoch: {cur_epoch} Loss: {float(out):.4} LR: {float(lr):.8}')\n",
    "            bar_train.update(1)\n",
    "            loss_hist.append(out.item())\n",
    "            if batch_num == num_iters:\n",
    "                break\n",
    "\n",
    "    return loss_hist\n",
    "\n",
    "def compute_epiano_accuracy(out, tgt):\n",
    "    softmax = nn.Softmax(dim=-1)\n",
    "    out = torch.argmax(softmax(out), dim=-1)\n",
    "\n",
    "    out = out.flatten()\n",
    "    tgt = tgt.flatten()\n",
    "\n",
    "    mask = (tgt != TOKEN_PAD)\n",
    "\n",
    "    out = out[mask]\n",
    "    tgt = tgt[mask]\n",
    "\n",
    "    if(len(tgt) == 0):\n",
    "        return 1.0\n",
    "\n",
    "    num_right = (out == tgt)\n",
    "    num_right = torch.sum(num_right).type(TORCH_FLOAT)\n",
    "\n",
    "    acc = num_right / len(tgt)\n",
    "\n",
    "    return acc\n",
    "\n",
    "def eval_model(model, dataloader, loss, num_iters=-1):\n",
    "    model.eval()\n",
    "\n",
    "    avg_acc     = -1\n",
    "    avg_loss    = -1\n",
    "    with torch.set_grad_enabled(False):\n",
    "        n_test      = len(dataloader)\n",
    "        sum_loss   = 0.0\n",
    "        sum_acc    = 0.0\n",
    "        with tqdm(total=len(dataloader)) as bar_eval:\n",
    "            for batch in dataloader:\n",
    "                x   = batch[0].to(get_device())\n",
    "                tgt = batch[1].to(get_device())\n",
    "\n",
    "                y, _ = model(x)\n",
    "\n",
    "                sum_acc += float(compute_epiano_accuracy(y, tgt))\n",
    "\n",
    "                y   = y.reshape(y.shape[0] * y.shape[1], -1)\n",
    "                tgt = tgt.flatten()\n",
    "\n",
    "                out = loss.forward(y, tgt)\n",
    "\n",
    "                sum_loss += float(out)\n",
    "                bar_eval.set_description(f'Loss val: {float(out):.4}  Acc: {float(sum_acc / (bar_eval.n + 1)):.4}')\n",
    "                bar_eval.update(1)\n",
    "                if bar_eval.n == num_iters:\n",
    "                    break\n",
    "\n",
    "        avg_loss    = sum_loss / n_test\n",
    "        avg_acc     = sum_acc / n_test\n",
    "\n",
    "    return avg_loss, avg_acc"
   ]
  },
  {
   "cell_type": "code",
   "execution_count": 12,
   "metadata": {},
   "outputs": [],
   "source": [
    "class CausalSelfAttention(nn.Module):\n",
    "    \"\"\"\n",
    "    A vanilla multi-head masked self-attention layer with a projection at the end.\n",
    "    It is possible to use torch.nn.MultiheadAttention here but I am including an\n",
    "    explicit implementation here to show that there is nothing too scary here.\n",
    "    \"\"\"\n",
    "\n",
    "    def __init__(self, config):\n",
    "        super().__init__()\n",
    "        assert config.n_embd % config.n_head == 0\n",
    "        # key, query, value projections for all heads\n",
    "        self.key = nn.Linear(config.n_embd, config.n_embd)\n",
    "        self.query = nn.Linear(config.n_embd, config.n_embd)\n",
    "        self.value = nn.Linear(config.n_embd, config.n_embd)\n",
    "        # regularization\n",
    "        self.attn_drop = nn.Dropout(config.attn_pdrop)\n",
    "        self.resid_drop = nn.Dropout(config.resid_pdrop)\n",
    "        # output projection\n",
    "        self.proj = nn.Linear(config.n_embd, config.n_embd)\n",
    "        # causal mask to ensure that attention is only applied to the left in the input sequence\n",
    "        self.register_buffer(\"mask\", torch.tril(torch.ones(config.block_size, config.block_size))\n",
    "                                     .view(1, 1, config.block_size, config.block_size))\n",
    "        self.n_head = config.n_head\n",
    "\n",
    "    def forward(self, x, layer_past=None):\n",
    "        B, T, C = x.size()\n",
    "\n",
    "        # calculate query, key, values for all heads in batch and move head forward to be the batch dim\n",
    "        k = self.key(x).view(B, T, self.n_head, C // self.n_head).transpose(1, 2) # (B, nh, T, hs)\n",
    "        q = self.query(x).view(B, T, self.n_head, C // self.n_head).transpose(1, 2) # (B, nh, T, hs)\n",
    "        v = self.value(x).view(B, T, self.n_head, C // self.n_head).transpose(1, 2) # (B, nh, T, hs)\n",
    "\n",
    "        # causal self-attention; Self-attend: (B, nh, T, hs) x (B, nh, hs, T) -> (B, nh, T, T)\n",
    "        att = (q @ k.transpose(-2, -1)) * (1.0 / math.sqrt(k.size(-1)))\n",
    "        att = att.masked_fill(self.mask[:,:,:T,:T] == 0, float('-inf'))\n",
    "        att = F.softmax(att, dim=-1)\n",
    "        att = self.attn_drop(att)\n",
    "        y = att @ v # (B, nh, T, T) x (B, nh, T, hs) -> (B, nh, T, hs)\n",
    "        y = y.transpose(1, 2).contiguous().view(B, T, C) # re-assemble all head outputs side by side\n",
    "\n",
    "        # output projection\n",
    "        y = self.resid_drop(self.proj(y))\n",
    "        return y\n",
    "\n",
    "class Block(nn.Module):\n",
    "    \"\"\" an unassuming Transformer block \"\"\"\n",
    "\n",
    "    def __init__(self, config):\n",
    "        super().__init__()\n",
    "        self.ln1 = nn.LayerNorm(config.n_embd)\n",
    "        self.ln2 = nn.LayerNorm(config.n_embd)\n",
    "        self.attn = CausalSelfAttention(config)\n",
    "        self.mlp = nn.Sequential(\n",
    "            nn.Linear(config.n_embd, config.dim_feedforward),\n",
    "            nn.GELU(),\n",
    "            nn.Linear(config.dim_feedforward, config.n_embd),\n",
    "            nn.Dropout(config.resid_pdrop),\n",
    "        )\n",
    "\n",
    "    def forward(self, x):\n",
    "        x = x + self.attn(self.ln1(x))\n",
    "        x = x + self.mlp(self.ln2(x))\n",
    "        return x\n",
    "\n",
    "class GPT(nn.Module):\n",
    "    \"\"\"  the full GPT language model, with a context size of block_size \"\"\"\n",
    "\n",
    "    def __init__(self, config):\n",
    "        super().__init__()\n",
    "\n",
    "        # input embedding stem\n",
    "        self.tok_emb = nn.Embedding(config.vocab_size, config.n_embd)\n",
    "        self.pos_emb = nn.Parameter(torch.zeros(1, config.block_size, config.n_embd))\n",
    "        self.drop = nn.Dropout(config.embd_pdrop)\n",
    "        # transformer\n",
    "        self.blocks = nn.Sequential(*[Block(config) for _ in range(config.n_layer)])\n",
    "        # decoder head\n",
    "        self.ln_f = nn.LayerNorm(config.n_embd)\n",
    "        self.head = nn.Linear(config.n_embd, config.vocab_size, bias=False)\n",
    "        self.softmax = nn.Softmax(dim=-1)\n",
    "\n",
    "        self.block_size = config.block_size\n",
    "        self.apply(self._init_weights)\n",
    "\n",
    "        logger.info(\"number of parameters: %e\", sum(p.numel() for p in self.parameters()))\n",
    "\n",
    "    def get_block_size(self):\n",
    "        return self.block_size\n",
    "\n",
    "    def _init_weights(self, module):\n",
    "        if isinstance(module, (nn.Linear, nn.Embedding)):\n",
    "            module.weight.data.normal_(mean=0.0, std=0.02)\n",
    "            if isinstance(module, nn.Linear) and module.bias is not None:\n",
    "                module.bias.data.zero_()\n",
    "        elif isinstance(module, nn.LayerNorm):\n",
    "            module.bias.data.zero_()\n",
    "            module.weight.data.fill_(1.0)\n",
    "\n",
    "    def configure_optimizers(self, train_config):\n",
    "        \"\"\"\n",
    "        This long function is unfortunately doing something very simple and is being very defensive:\n",
    "        We are separating out all parameters of the model into two buckets: those that will experience\n",
    "        weight decay for regularization and those that won't (biases, and layernorm/embedding weights).\n",
    "        We are then returning the PyTorch optimizer object.\n",
    "        \"\"\"\n",
    "\n",
    "        # separate out all parameters to those that will and won't experience regularizing weight decay\n",
    "        decay = set()\n",
    "        no_decay = set()\n",
    "        whitelist_weight_modules = (torch.nn.Linear, )\n",
    "        blacklist_weight_modules = (torch.nn.LayerNorm, torch.nn.Embedding)\n",
    "        for mn, m in self.named_modules():\n",
    "            for pn, p in m.named_parameters():\n",
    "                fpn = '%s.%s' % (mn, pn) if mn else pn # full param name\n",
    "\n",
    "                if pn.endswith('bias'):\n",
    "                    # all biases will not be decayed\n",
    "                    no_decay.add(fpn)\n",
    "                elif pn.endswith('weight') and isinstance(m, whitelist_weight_modules):\n",
    "                    # weights of whitelist modules will be weight decayed\n",
    "                    decay.add(fpn)\n",
    "                elif pn.endswith('weight') and isinstance(m, blacklist_weight_modules):\n",
    "                    # weights of blacklist modules will NOT be weight decayed\n",
    "                    no_decay.add(fpn)\n",
    "\n",
    "        # special case the position embedding parameter in the root GPT module as not decayed\n",
    "        no_decay.add('pos_emb')\n",
    "\n",
    "        # validate that we considered every parameter\n",
    "        param_dict = {pn: p for pn, p in self.named_parameters()}\n",
    "        inter_params = decay & no_decay\n",
    "        union_params = decay | no_decay\n",
    "        assert len(inter_params) == 0, \"parameters %s made it into both decay/no_decay sets!\" % (str(inter_params), )\n",
    "        assert len(param_dict.keys() - union_params) == 0, \"parameters %s were not separated into either decay/no_decay set!\" \\\n",
    "                                                    % (str(param_dict.keys() - union_params), )\n",
    "\n",
    "        # create the pytorch optimizer object\n",
    "        optim_groups = [\n",
    "            {\"params\": [param_dict[pn] for pn in sorted(list(decay))], \"weight_decay\": train_config.weight_decay},\n",
    "            {\"params\": [param_dict[pn] for pn in sorted(list(no_decay))], \"weight_decay\": 0.0},\n",
    "        ]\n",
    "        optimizer = torch.optim.AdamW(optim_groups, lr=train_config.learning_rate, betas=train_config.betas)\n",
    "        return optimizer\n",
    "\n",
    "    def forward(self, idx, targets=None):\n",
    "        b, t = idx.size()\n",
    "        assert t <= self.block_size, \"Cannot forward, model block size is exhausted.\"\n",
    "\n",
    "        # forward the GPT model\n",
    "        token_embeddings = self.tok_emb(idx) # each index maps to a (learnable) vector\n",
    "        position_embeddings = self.pos_emb[:, :t, :] # each position maps to a (learnable) vector\n",
    "        x = self.drop(token_embeddings + position_embeddings)\n",
    "        x = self.blocks(x)\n",
    "        x = self.ln_f(x)\n",
    "        logits = self.head(x)\n",
    "\n",
    "        # if we are given some desired targets also calculate the loss\n",
    "        loss = None\n",
    "        if targets is not None:\n",
    "            loss = F.cross_entropy(logits.view(-1, logits.size(-1)), targets.view(-1))\n",
    "\n",
    "        return logits, loss\n",
    "    \n",
    "    def generate(self, primer=None, target_seq_length=1024, beam=0, beam_chance=1.0):\n",
    "\n",
    "        assert (not self.training), \"Cannot generate while in training mode\"\n",
    "\n",
    "        print(\"Generating sequence of max length:\", target_seq_length)\n",
    "\n",
    "        gen_seq = torch.full((1,target_seq_length), TOKEN_PAD, dtype=TORCH_LABEL_TYPE, device=get_device())\n",
    "\n",
    "        num_primer = len(primer)\n",
    "        gen_seq[..., :num_primer] = primer.type(TORCH_LABEL_TYPE).to(get_device())\n",
    "\n",
    "        cur_i = num_primer\n",
    "        while(cur_i < target_seq_length):\n",
    "            logits, _ = self.forward(gen_seq[..., :cur_i])\n",
    "            y = self.softmax(logits)[..., :TOKEN_END]\n",
    "            token_probs = y[:, cur_i-1, :]\n",
    "\n",
    "            if(beam == 0):\n",
    "                beam_ran = 2.0\n",
    "            else:\n",
    "                beam_ran = random.uniform(0,1)\n",
    "\n",
    "            if(beam_ran <= beam_chance):\n",
    "                token_probs = token_probs.flatten()\n",
    "                top_res, top_i = torch.topk(token_probs, beam)\n",
    "\n",
    "                beam_rows = top_i // VOCAB_SIZE\n",
    "                beam_cols = top_i % VOCAB_SIZE\n",
    "\n",
    "                gen_seq = gen_seq[beam_rows, :]\n",
    "                gen_seq[..., cur_i] = beam_cols\n",
    "\n",
    "            else:\n",
    "                distrib = torch.distributions.categorical.Categorical(probs=token_probs)\n",
    "                next_token = distrib.sample()\n",
    "                gen_seq[:, cur_i] = next_token\n",
    "\n",
    "\n",
    "                # Let the transformer decide to end if it wants to\n",
    "                if(next_token == TOKEN_END):\n",
    "                    print(\"Model called end of sequence at:\", cur_i, \"/\", target_seq_length)\n",
    "                    break\n",
    "\n",
    "            cur_i += 1\n",
    "            if(cur_i % 50 == 0):\n",
    "                print(cur_i, \"/\", target_seq_length)\n",
    "\n",
    "        return gen_seq[:, :cur_i]"
   ]
  },
  {
   "cell_type": "code",
   "execution_count": 13,
   "metadata": {},
   "outputs": [],
   "source": [
    "class GPTConfig:\n",
    "    \"\"\" base GPT config, params common to all GPT versions \"\"\"\n",
    "    embd_pdrop = 0.1\n",
    "    resid_pdrop = 0.1\n",
    "    attn_pdrop = 0.1\n",
    "\n",
    "    def __init__(self, vocab_size, block_size, dim_feedforward, **kwargs):\n",
    "        self.vocab_size = vocab_size\n",
    "        self.block_size = block_size\n",
    "        self.dim_feedforward = dim_feedforward\n",
    "        for k,v in kwargs.items():\n",
    "            setattr(self, k, v)\n",
    "import logging\n",
    "logger = logging.getLogger(__name__)"
   ]
  },
  {
   "cell_type": "code",
   "execution_count": 14,
   "metadata": {},
   "outputs": [
    {
     "data": {
      "text/plain": [
       "GPT(\n",
       "  (tok_emb): Embedding(390, 512)\n",
       "  (drop): Dropout(p=0.1, inplace=False)\n",
       "  (blocks): Sequential(\n",
       "    (0): Block(\n",
       "      (ln1): LayerNorm((512,), eps=1e-05, elementwise_affine=True)\n",
       "      (ln2): LayerNorm((512,), eps=1e-05, elementwise_affine=True)\n",
       "      (attn): CausalSelfAttention(\n",
       "        (key): Linear(in_features=512, out_features=512, bias=True)\n",
       "        (query): Linear(in_features=512, out_features=512, bias=True)\n",
       "        (value): Linear(in_features=512, out_features=512, bias=True)\n",
       "        (attn_drop): Dropout(p=0.1, inplace=False)\n",
       "        (resid_drop): Dropout(p=0.1, inplace=False)\n",
       "        (proj): Linear(in_features=512, out_features=512, bias=True)\n",
       "      )\n",
       "      (mlp): Sequential(\n",
       "        (0): Linear(in_features=512, out_features=1024, bias=True)\n",
       "        (1): GELU()\n",
       "        (2): Linear(in_features=1024, out_features=512, bias=True)\n",
       "        (3): Dropout(p=0.1, inplace=False)\n",
       "      )\n",
       "    )\n",
       "    (1): Block(\n",
       "      (ln1): LayerNorm((512,), eps=1e-05, elementwise_affine=True)\n",
       "      (ln2): LayerNorm((512,), eps=1e-05, elementwise_affine=True)\n",
       "      (attn): CausalSelfAttention(\n",
       "        (key): Linear(in_features=512, out_features=512, bias=True)\n",
       "        (query): Linear(in_features=512, out_features=512, bias=True)\n",
       "        (value): Linear(in_features=512, out_features=512, bias=True)\n",
       "        (attn_drop): Dropout(p=0.1, inplace=False)\n",
       "        (resid_drop): Dropout(p=0.1, inplace=False)\n",
       "        (proj): Linear(in_features=512, out_features=512, bias=True)\n",
       "      )\n",
       "      (mlp): Sequential(\n",
       "        (0): Linear(in_features=512, out_features=1024, bias=True)\n",
       "        (1): GELU()\n",
       "        (2): Linear(in_features=1024, out_features=512, bias=True)\n",
       "        (3): Dropout(p=0.1, inplace=False)\n",
       "      )\n",
       "    )\n",
       "    (2): Block(\n",
       "      (ln1): LayerNorm((512,), eps=1e-05, elementwise_affine=True)\n",
       "      (ln2): LayerNorm((512,), eps=1e-05, elementwise_affine=True)\n",
       "      (attn): CausalSelfAttention(\n",
       "        (key): Linear(in_features=512, out_features=512, bias=True)\n",
       "        (query): Linear(in_features=512, out_features=512, bias=True)\n",
       "        (value): Linear(in_features=512, out_features=512, bias=True)\n",
       "        (attn_drop): Dropout(p=0.1, inplace=False)\n",
       "        (resid_drop): Dropout(p=0.1, inplace=False)\n",
       "        (proj): Linear(in_features=512, out_features=512, bias=True)\n",
       "      )\n",
       "      (mlp): Sequential(\n",
       "        (0): Linear(in_features=512, out_features=1024, bias=True)\n",
       "        (1): GELU()\n",
       "        (2): Linear(in_features=1024, out_features=512, bias=True)\n",
       "        (3): Dropout(p=0.1, inplace=False)\n",
       "      )\n",
       "    )\n",
       "    (3): Block(\n",
       "      (ln1): LayerNorm((512,), eps=1e-05, elementwise_affine=True)\n",
       "      (ln2): LayerNorm((512,), eps=1e-05, elementwise_affine=True)\n",
       "      (attn): CausalSelfAttention(\n",
       "        (key): Linear(in_features=512, out_features=512, bias=True)\n",
       "        (query): Linear(in_features=512, out_features=512, bias=True)\n",
       "        (value): Linear(in_features=512, out_features=512, bias=True)\n",
       "        (attn_drop): Dropout(p=0.1, inplace=False)\n",
       "        (resid_drop): Dropout(p=0.1, inplace=False)\n",
       "        (proj): Linear(in_features=512, out_features=512, bias=True)\n",
       "      )\n",
       "      (mlp): Sequential(\n",
       "        (0): Linear(in_features=512, out_features=1024, bias=True)\n",
       "        (1): GELU()\n",
       "        (2): Linear(in_features=1024, out_features=512, bias=True)\n",
       "        (3): Dropout(p=0.1, inplace=False)\n",
       "      )\n",
       "    )\n",
       "    (4): Block(\n",
       "      (ln1): LayerNorm((512,), eps=1e-05, elementwise_affine=True)\n",
       "      (ln2): LayerNorm((512,), eps=1e-05, elementwise_affine=True)\n",
       "      (attn): CausalSelfAttention(\n",
       "        (key): Linear(in_features=512, out_features=512, bias=True)\n",
       "        (query): Linear(in_features=512, out_features=512, bias=True)\n",
       "        (value): Linear(in_features=512, out_features=512, bias=True)\n",
       "        (attn_drop): Dropout(p=0.1, inplace=False)\n",
       "        (resid_drop): Dropout(p=0.1, inplace=False)\n",
       "        (proj): Linear(in_features=512, out_features=512, bias=True)\n",
       "      )\n",
       "      (mlp): Sequential(\n",
       "        (0): Linear(in_features=512, out_features=1024, bias=True)\n",
       "        (1): GELU()\n",
       "        (2): Linear(in_features=1024, out_features=512, bias=True)\n",
       "        (3): Dropout(p=0.1, inplace=False)\n",
       "      )\n",
       "    )\n",
       "    (5): Block(\n",
       "      (ln1): LayerNorm((512,), eps=1e-05, elementwise_affine=True)\n",
       "      (ln2): LayerNorm((512,), eps=1e-05, elementwise_affine=True)\n",
       "      (attn): CausalSelfAttention(\n",
       "        (key): Linear(in_features=512, out_features=512, bias=True)\n",
       "        (query): Linear(in_features=512, out_features=512, bias=True)\n",
       "        (value): Linear(in_features=512, out_features=512, bias=True)\n",
       "        (attn_drop): Dropout(p=0.1, inplace=False)\n",
       "        (resid_drop): Dropout(p=0.1, inplace=False)\n",
       "        (proj): Linear(in_features=512, out_features=512, bias=True)\n",
       "      )\n",
       "      (mlp): Sequential(\n",
       "        (0): Linear(in_features=512, out_features=1024, bias=True)\n",
       "        (1): GELU()\n",
       "        (2): Linear(in_features=1024, out_features=512, bias=True)\n",
       "        (3): Dropout(p=0.1, inplace=False)\n",
       "      )\n",
       "    )\n",
       "  )\n",
       "  (ln_f): LayerNorm((512,), eps=1e-05, elementwise_affine=True)\n",
       "  (head): Linear(in_features=512, out_features=390, bias=False)\n",
       "  (softmax): Softmax(dim=-1)\n",
       ")"
      ]
     },
     "execution_count": 14,
     "metadata": {},
     "output_type": "execute_result"
    }
   ],
   "source": [
    "config = GPTConfig(VOCAB_SIZE, \n",
    "                  max_seq,\n",
    "                  dim_feedforward=dim_feedforward,\n",
    "                  n_layer=6, \n",
    "                  n_head=8, \n",
    "                  n_embd=512)\n",
    "model = GPT(config).to(get_device())\n",
    "model"
   ]
  },
  {
   "cell_type": "code",
   "execution_count": 15,
   "metadata": {},
   "outputs": [],
   "source": [
    "model = nn.DataParallel(model, device_ids=[8,7,9,6])"
   ]
  },
  {
   "cell_type": "code",
   "execution_count": 16,
   "metadata": {},
   "outputs": [],
   "source": [
    "init_step = 0\n",
    "lr = LR_DEFAULT_START\n",
    "lr_stepper = LrStepTracker(d_model, SCHEDULER_WARMUP_STEPS, init_step)\n",
    "eval_loss_func = nn.CrossEntropyLoss(ignore_index=TOKEN_PAD)\n",
    "train_loss_func = eval_loss_func\n",
    "\n",
    "opt = Adam(model.parameters(), lr=lr, betas=(ADAM_BETA_1, ADAM_BETA_2), eps=ADAM_EPSILON)\n",
    "lr_scheduler = LambdaLR(opt, lr_stepper.step)\n",
    "\n",
    "n_workers = 8\n",
    "train_loader = DataLoader(train_dataset, batch_size=batch_size, num_workers=n_workers, shuffle=True)\n",
    "val_loader = DataLoader(val_dataset, batch_size=batch_size, num_workers=n_workers)\n",
    "test_loader = DataLoader(test_dataset, batch_size=batch_size, num_workers=n_workers)"
   ]
  },
  {
   "cell_type": "code",
   "execution_count": null,
   "metadata": {
    "scrolled": true
   },
   "outputs": [
    {
     "name": "stderr",
     "output_type": "stream",
     "text": [
      "Epoch: 1 Loss: 1.879 LR: 0.00028245: 100%|██████████| 24482/24482 [2:19:22<00:00,  2.93it/s]      \n",
      "Loss val: 2.029  Acc: 0.3843: 100%|██████████| 3089/3089 [08:13<00:00,  6.25it/s] \n",
      "  0%|          | 0/24482 [00:00<?, ?it/s]"
     ]
    },
    {
     "name": "stdout",
     "output_type": "stream",
     "text": [
      "Best eval acc epoch: 1\n",
      "Best eval acc: 0.384279597428826\n",
      "\n",
      "Best eval loss epoch: 1\n",
      "Best eval loss: 2.054124534072209\n"
     ]
    },
    {
     "name": "stderr",
     "output_type": "stream",
     "text": [
      "Epoch: 2 Loss: 1.753 LR: 0.00019972231: 100%|██████████| 24482/24482 [2:18:36<00:00,  2.94it/s]  \n",
      "Loss val: 1.99  Acc: 0.3955: 100%|██████████| 3089/3089 [08:00<00:00,  6.43it/s]   \n",
      "  0%|          | 0/24482 [00:00<?, ?it/s]"
     ]
    },
    {
     "name": "stdout",
     "output_type": "stream",
     "text": [
      "Best eval acc epoch: 2\n",
      "Best eval acc: 0.3955075197975857\n",
      "\n",
      "Best eval loss epoch: 2\n",
      "Best eval loss: 1.994569742282103\n"
     ]
    },
    {
     "name": "stderr",
     "output_type": "stream",
     "text": [
      "Epoch: 3 Loss: 1.973 LR: 0.00017112309:  72%|███████▏  | 17734/24482 [1:41:24<35:34,  3.16it/s]   IOPub message rate exceeded.\n",
      "The notebook server will temporarily stop sending output\n",
      "to the client in order to avoid crashing it.\n",
      "To change this limit, set the config variable\n",
      "`--NotebookApp.iopub_msg_rate_limit`.\n",
      "\n",
      "Current values:\n",
      "NotebookApp.iopub_msg_rate_limit=1000.0 (msgs/sec)\n",
      "NotebookApp.rate_limit_window=3.0 (secs)\n",
      "\n",
      "Epoch: 3 Loss: 1.873 LR: 0.00016808243:  82%|████████▏ | 20169/24482 [1:55:26<22:49,  3.15it/s]  IOPub message rate exceeded.\n",
      "The notebook server will temporarily stop sending output\n",
      "to the client in order to avoid crashing it.\n",
      "To change this limit, set the config variable\n",
      "`--NotebookApp.iopub_msg_rate_limit`.\n",
      "\n",
      "Current values:\n",
      "NotebookApp.iopub_msg_rate_limit=1000.0 (msgs/sec)\n",
      "NotebookApp.rate_limit_window=3.0 (secs)\n",
      "\n",
      "Epoch: 3 Loss: 1.833 LR: 0.00016521446:  92%|█████████▏| 22589/24482 [2:09:30<09:49,  3.21it/s]  IOPub message rate exceeded.\n",
      "The notebook server will temporarily stop sending output\n",
      "to the client in order to avoid crashing it.\n",
      "To change this limit, set the config variable\n",
      "`--NotebookApp.iopub_msg_rate_limit`.\n",
      "\n",
      "Current values:\n",
      "NotebookApp.iopub_msg_rate_limit=1000.0 (msgs/sec)\n",
      "NotebookApp.rate_limit_window=3.0 (secs)\n",
      "\n",
      "Epoch: 3 Loss: 1.85 LR: 0.00016307258: 100%|██████████| 24482/24482 [2:20:23<00:00,  2.91it/s] \n",
      "Loss val: 1.961  Acc: 0.4011: 100%|██████████| 3089/3089 [07:39<00:00,  6.73it/s]  \n",
      "  0%|          | 0/24482 [00:00<?, ?it/s]"
     ]
    },
    {
     "name": "stdout",
     "output_type": "stream",
     "text": [
      "Best eval acc epoch: 3\n",
      "Best eval acc: 0.40110184190998033\n",
      "\n",
      "Best eval loss epoch: 3\n",
      "Best eval loss: 1.9650320271605926\n"
     ]
    },
    {
     "name": "stderr",
     "output_type": "stream",
     "text": [
      "Epoch: 4 Loss: 1.783 LR: 0.00016264574:   2%|▏         | 386/24482 [02:14<2:05:04,  3.21it/s] "
     ]
    }
   ],
   "source": [
    "best_eval_acc        = 0.0\n",
    "best_eval_acc_epoch  = -1\n",
    "best_eval_loss       = float(\"inf\")\n",
    "best_eval_loss_epoch = -1\n",
    "best_acc_file = '/home/storage/3020/db/K_cluster2_backup/TD/gpt2_best_acc_bsize12.pth'\n",
    "best_loss_file = '/home/storage/3020/db/K_cluster2_backup/TD/gpt2_best_loss_bsize12.pth'\n",
    "loss_train, loss_val, acc_val = [], [], []\n",
    "\n",
    "for epoch in range(0, epochs):\n",
    "    new_best = False\n",
    "    \n",
    "    loss = train(epoch+1, model, train_loader, train_loss_func, opt, lr_scheduler, num_iters=-1)\n",
    "    loss_train.append(loss)\n",
    "    \n",
    "    eval_loss, eval_acc = eval_model(model, val_loader, eval_loss_func, num_iters=-1)\n",
    "    loss_val.append(eval_loss)\n",
    "    acc_val.append(eval_acc)\n",
    "    \n",
    "    if(eval_acc > best_eval_acc):\n",
    "        best_eval_acc = eval_acc\n",
    "        best_eval_acc_epoch  = epoch+1\n",
    "        torch.save(model.state_dict(), best_acc_file)\n",
    "        new_best = True\n",
    "\n",
    "    if(eval_loss < best_eval_loss):\n",
    "        best_eval_loss       = eval_loss\n",
    "        best_eval_loss_epoch = epoch+1\n",
    "        torch.save(model.state_dict(), best_loss_file)\n",
    "        new_best = True\n",
    "    \n",
    "    if(new_best):\n",
    "        print(\"Best eval acc epoch:\", best_eval_acc_epoch)\n",
    "        print(\"Best eval acc:\", best_eval_acc)\n",
    "        print(\"\")\n",
    "        print(\"Best eval loss epoch:\", best_eval_loss_epoch)\n",
    "        print(\"Best eval loss:\", best_eval_loss)"
   ]
  },
  {
   "cell_type": "code",
   "execution_count": 66,
   "metadata": {},
   "outputs": [
    {
     "data": {
      "text/plain": [
       "[<matplotlib.lines.Line2D at 0x7f5560a46090>]"
      ]
     },
     "execution_count": 66,
     "metadata": {},
     "output_type": "execute_result"
    },
    {
     "data": {
      "image/png": "[encoded data removed]",
      "text/plain": [
       "<Figure size 432x288 with 1 Axes>"
      ]
     },
     "metadata": {
      "needs_background": "light"
     },
     "output_type": "display_data"
    }
   ],
   "source": [
    "import matplotlib.pyplot as plt\n",
    "tr_loss_list = [item for sublist in loss_train for item in sublist]\n",
    "plt.plot([i for i in range(len(tr_loss_list))] ,tr_loss_list, 'b')"
   ]
  },
  {
   "cell_type": "code",
   "execution_count": 67,
   "metadata": {},
   "outputs": [
    {
     "data": {
      "text/plain": [
       "[<matplotlib.lines.Line2D at 0x7f558c04b090>]"
      ]
     },
     "execution_count": 67,
     "metadata": {},
     "output_type": "execute_result"
    },
    {
     "data": {
      "image/png": "[encoded data removed]",
      "text/plain": [
       "<Figure size 432x288 with 1 Axes>"
      ]
     },
     "metadata": {
      "needs_background": "light"
     },
     "output_type": "display_data"
    }
   ],
   "source": [
    "plt.plot([i for i in range(len(loss_val))], loss_val, 'b')"
   ]
  },
  {
   "cell_type": "code",
   "execution_count": 68,
   "metadata": {},
   "outputs": [
    {
     "data": {
      "text/plain": [
       "[<matplotlib.lines.Line2D at 0x7f55870aaed0>]"
      ]
     },
     "execution_count": 68,
     "metadata": {},
     "output_type": "execute_result"
    },
    {
     "data": {
      "image/png": "[encoded data removed]",
      "text/plain": [
       "<Figure size 432x288 with 1 Axes>"
      ]
     },
     "metadata": {
      "needs_background": "light"
     },
     "output_type": "display_data"
    }
   ],
   "source": [
    "plt.plot([i for i in range(len(acc_val))], acc_val, 'b')"
   ]
  },
  {
   "cell_type": "code",
   "execution_count": 71,
   "metadata": {},
   "outputs": [],
   "source": [
    "res_dict = {'tr_loss': tr_loss_list,\n",
    "            'loss_val': loss_val,\n",
    "            'acc_val': acc_val,\n",
    "            'n_layers': 6,\n",
    "            'num_heads': 8,\n",
    "            'n_embd': 512,\n",
    "            'block_size': model.get_block_size(),\n",
    "            'dim_feedforward': 2048,\n",
    "            'dropout': dropout,\n",
    "            'max_seq': max_seq,\n",
    "            'VOCAB_SIZE': VOCAB_SIZE}\n",
    "with open('/home/storage/3020/db/K_cluster2_backup/TD/gpt2_best_acc_bsize2_scores_params.pkl', 'wb') as f:\n",
    "    pickle.dump(res_dict, f)"
   ]
  },
  {
   "cell_type": "code",
   "execution_count": 178,
   "metadata": {},
   "outputs": [
    {
     "data": {
      "text/plain": [
       "<All keys matched successfully>"
      ]
     },
     "execution_count": 178,
     "metadata": {},
     "output_type": "execute_result"
    }
   ],
   "source": [
    "model.load_state_dict(torch.load(best_acc_file))"
   ]
  },
  {
   "cell_type": "code",
   "execution_count": 69,
   "metadata": {},
   "outputs": [
    {
     "data": {
      "text/plain": [
       "2048"
      ]
     },
     "execution_count": 69,
     "metadata": {},
     "output_type": "execute_result"
    }
   ],
   "source": [
    "model.get_block_size() "
   ]
  },
  {
   "cell_type": "code",
   "execution_count": null,
   "metadata": {},
   "outputs": [],
   "source": []
  }
 ],
 "metadata": {
  "kernelspec": {
   "display_name": "Python 3",
   "language": "python",
   "name": "python3"
  },
  "language_info": {
   "codemirror_mode": {
    "name": "ipython",
    "version": 3
   },
   "file_extension": ".py",
   "mimetype": "text/x-python",
   "name": "python",
   "nbconvert_exporter": "python",
   "pygments_lexer": "ipython3",
   "version": "3.7.7"
  }
 },
 "nbformat": 4,
 "nbformat_minor": 4
}
